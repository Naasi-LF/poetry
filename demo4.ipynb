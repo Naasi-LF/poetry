{
 "cells": [
  {
   "cell_type": "code",
   "execution_count": 34,
   "metadata": {},
   "outputs": [],
   "source": [
    "import re\n",
    "import numpy as np\n",
    "import csv\n",
    "import matplotlib.pyplot as plt\n",
    "import random\n",
    "import jieba"
   ]
  },
  {
   "cell_type": "code",
   "execution_count": 58,
   "metadata": {},
   "outputs": [],
   "source": [
    "poems = []\n",
    "with open('data.csv', 'r', encoding='utf-8') as file:\n",
    "    csv_reader = csv.DictReader(file)\n",
    "    for row in csv_reader:\n",
    "        if random.random() < 0.1:\n",
    "            poem_content = row['content']\n",
    "            poems.append(poem_content)"
   ]
  },
  {
   "cell_type": "code",
   "execution_count": 59,
   "metadata": {},
   "outputs": [],
   "source": [
    "# 使用jieba分词，并跳过标点符号和换行符\n",
    "poems = [list(filter(lambda x: x not in ['\\n', '，', '。', '！', '？','、'], jieba.cut(poem))) for poem in poems]\n",
    "\n",
    "\n",
    "# 将列表的列表展平，得到词列表\n",
    "words = [word for poem in poems for word in poem]\n",
    "\n",
    "# 去重以构建词汇表\n",
    "vocab = set(words)"
   ]
  },
  {
   "cell_type": "code",
   "execution_count": 61,
   "metadata": {},
   "outputs": [],
   "source": [
    "# 长度就是模型接受的大小\n",
    "vocab_size = len(vocab)\n",
    "# 加密解密\n",
    "char_to_index = {char: i for i, char in enumerate(vocab)}\n",
    "index_to_char = {i: char for i, char in enumerate(vocab)}\n",
    "\n",
    "# 模型参数初始化\n",
    "input_size = vocab_size\n",
    "hidden_size = 5 # 可以调整这个值以优化模型\n",
    "output_size = vocab_size\n",
    "rate = 0.05\n",
    "\n",
    "Wxh = np.random.randn(hidden_size, input_size) * 0.01\n",
    "Whh = np.random.randn(hidden_size, hidden_size) * 0.01\n",
    "Why = np.random.randn(output_size, hidden_size) * 0.01\n",
    "bh = np.zeros((hidden_size, 1))\n",
    "by = np.zeros((output_size, 1))"
   ]
  },
  {
   "cell_type": "code",
   "execution_count": 62,
   "metadata": {},
   "outputs": [],
   "source": [
    "# 前向和后向传播\n",
    "def forward_backward(inputs, targets, hprev):\n",
    "    xs, hs, ys, ps = {}, {}, {}, {}\n",
    "    # RNN通过上一次的h与x共同作用\n",
    "    hs[-1] = np.copy(hprev)\n",
    "    loss = 0\n",
    "\n",
    "    for t in range(len(inputs)):\n",
    "        xs[t] = np.zeros((input_size, 1))\n",
    "        xs[t][inputs[t]] = 1\n",
    "        hs[t] = np.tanh(np.dot(Wxh, xs[t]) + np.dot(Whh, hs[t-1]) + bh)\n",
    "        ys[t] = np.dot(Why, hs[t]) + by\n",
    "        ps[t] = np.exp(ys[t]) / np.sum(np.exp(ys[t]))\n",
    "        loss += -np.log(ps[t][targets[t], 0])\n",
    "\n",
    "    dWxh, dWhh, dWhy = np.zeros_like(Wxh), np.zeros_like(Whh), np.zeros_like(Why)\n",
    "    dbh, dby = np.zeros_like(bh), np.zeros_like(by)\n",
    "    dhnext = np.zeros_like(hs[0])\n",
    "\n",
    "    for t in reversed(range(len(inputs))):\n",
    "        dy = np.copy(ps[t])\n",
    "        dy[targets[t]] -= 1\n",
    "        dWhy += np.dot(dy, hs[t].T)\n",
    "        dby += dy\n",
    "        dh = np.dot(Why.T, dy) + dhnext\n",
    "        dhraw = (1 - hs[t] * hs[t]) * dh\n",
    "        dbh += dhraw\n",
    "        dWxh += np.dot(dhraw, xs[t].T)\n",
    "        dWhh += np.dot(dhraw, hs[t-1].T)\n",
    "        dhnext = np.dot(Whh.T, dhraw)\n",
    "\n",
    "    return loss, dWxh, dWhh, dWhy, dbh, dby, hs[len(inputs)-1]"
   ]
  },
  {
   "cell_type": "code",
   "execution_count": 64,
   "metadata": {},
   "outputs": [],
   "source": [
    "# 每五个为一个序列\n",
    "length = 25\n",
    "# 训练参数\n",
    "num = 100000  # 迭代次数\n",
    "patience = 800   # 耐心值"
   ]
  },
  {
   "cell_type": "code",
   "execution_count": 65,
   "metadata": {},
   "outputs": [],
   "source": [
    "def train(data, num, patience=500):\n",
    "    global Wxh, Whh, Why, bh, by  # 全局\n",
    "\n",
    "    lowest_loss = np.inf # 迭代找最小\n",
    "    best = {}\n",
    "    counter = 0\n",
    "\n",
    "    n, p = 0, 0\n",
    "    hprev = np.zeros((hidden_size, 1))\n",
    "    losses = [] # 记录loss\n",
    "    lossess = []\n",
    "    for i in range(num):\n",
    "        if p + length + 1 >= len(data) or n == 0:\n",
    "            hprev = np.zeros((hidden_size, 1))\n",
    "            p = 0  \n",
    "\n",
    "        inputs = [char_to_index[data[p]]]\n",
    "        targets = [char_to_index[ch] for ch in data[p+1:p+length+1]]\n",
    "\n",
    "        loss, dWxh, dWhh, dWhy, dbh, dby, hprev = forward_backward(inputs, targets, hprev)\n",
    "\n",
    "        # 梯度下降\n",
    "        for param, dparam in zip([Wxh, Whh, Why, bh, by], [dWxh, dWhh, dWhy, dbh, dby]):\n",
    "            param += -rate * dparam\n",
    "\n",
    "        p += length  \n",
    "        n += 1  \n",
    "        if n%10 ==0:\n",
    "            lossess.append(loss)\n",
    "        if n % 5000 == 0:\n",
    "            print(f\"Epoch {n}, Loss: {loss}\")\n",
    "            losses.append(loss)\n",
    "        \n",
    "        if loss < lowest_loss:\n",
    "            lowest_loss = loss\n",
    "            best = {\n",
    "                'Wxh': Wxh.copy(), \n",
    "                'Whh': Whh.copy(), \n",
    "                'Why': Why.copy(), \n",
    "                'bh': bh.copy(), \n",
    "                'by': by.copy()\n",
    "            }\n",
    "            counter = 0\n",
    "        else:\n",
    "            counter += 1\n",
    "\n",
    "        # if counter > patience:\n",
    "        #     print(f\"Early stopping at iteration {n}, Lowest loss: {lowest_loss}\")\n",
    "        #     break\n",
    "\n",
    "    Wxh, Whh, Why, bh, by = best.values()\n",
    "    plt.plot(range(len(losses)),losses)\n",
    "    plt.xlabel('num')\n",
    "    plt.ylabel('Loss')\n",
    "    plt.title('Training Loss')\n",
    "    plt.show()\n",
    "    plt.scatter(range(len(lossess)), lossess, color='red', marker='o')\n",
    "    plt.xlabel('num')\n",
    "    plt.ylabel('Loss')\n",
    "    plt.title('Training Loss')\n",
    "    plt.show()\n",
    "    return best, lowest_loss"
   ]
  },
  {
   "cell_type": "code",
   "execution_count": 66,
   "metadata": {},
   "outputs": [
    {
     "name": "stdout",
     "output_type": "stream",
     "text": [
      "Epoch 5000, Loss: 4.373574523078004\n",
      "Epoch 10000, Loss: 4.2746594858021485\n",
      "Epoch 15000, Loss: 4.054186879911048\n",
      "Epoch 20000, Loss: 3.9553125011606816\n",
      "Epoch 25000, Loss: 3.948721381827532\n",
      "Epoch 30000, Loss: 2.9303082816005306\n",
      "Epoch 35000, Loss: 3.150541840449093\n",
      "Epoch 40000, Loss: 2.280740842457477\n",
      "Epoch 45000, Loss: 1.9469633172297927\n",
      "Epoch 50000, Loss: 0.7309052838589235\n",
      "Epoch 55000, Loss: 0.6468008274512094\n",
      "Epoch 60000, Loss: 0.4722407753351374\n",
      "Epoch 65000, Loss: 0.3373154896989249\n",
      "Epoch 70000, Loss: 0.20040986876769418\n",
      "Epoch 75000, Loss: 0.14916613857493127\n",
      "Epoch 80000, Loss: 0.2802972026518197\n",
      "Epoch 85000, Loss: 0.17659769659217917\n",
      "Epoch 90000, Loss: 0.08686136031908726\n",
      "Epoch 95000, Loss: 0.05990667147895154\n",
      "Epoch 100000, Loss: 0.28837428739811916\n"
     ]
    },
    {
     "data": {
      "image/png": "[encoded data removed]",
      "text/plain": [
       "<Figure size 640x480 with 1 Axes>"
      ]
     },
     "metadata": {},
     "output_type": "display_data"
    },
    {
     "data": {
      "image/png": "[encoded data removed]",
      "text/plain": [
       "<Figure size 640x480 with 1 Axes>"
      ]
     },
     "metadata": {},
     "output_type": "display_data"
    },
    {
     "name": "stdout",
     "output_type": "stream",
     "text": [
      "lowest loss: 0.015067763723342268\n"
     ]
    }
   ],
   "source": [
    "\n",
    "best_params, lowest_loss = train(words, num, patience)\n",
    "\n",
    "print(f\"lowest loss: {lowest_loss}\")"
   ]
  },
  {
   "cell_type": "code",
   "execution_count": 67,
   "metadata": {},
   "outputs": [],
   "source": [
    "def generate_line(start_word, length=5):\n",
    "\n",
    "    if start_word not in char_to_index:\n",
    "        # 如果起始词不在词汇表中，随机选择一个词\n",
    "        random_word = np.random.choice(list(vocab))\n",
    "        start_index = char_to_index[random_word]\n",
    "    else:\n",
    "        start_index = char_to_index[start_word]\n",
    "\n",
    "    x = np.zeros((input_size, 1))\n",
    "    x[start_index] = 1\n",
    "    h = np.zeros((hidden_size, 1))\n",
    "    indices = [start_index]  \n",
    "\n",
    "    for _ in range(length - 1): \n",
    "        h = np.tanh(np.dot(Wxh, x) + np.dot(Whh, h) + bh)\n",
    "        y_hat = np.dot(Why, h) + by\n",
    "        prob = np.exp(y_hat) / np.sum(np.exp(y_hat))\n",
    "        next_index = np.random.choice(range(vocab_size), p=prob.ravel())\n",
    "        indices.append(next_index)\n",
    "        x = np.zeros((input_size, 1))\n",
    "        x[next_index] = 1\n",
    "\n",
    "    generated_poem = \"\".join(index_to_char[i] for i in indices)\n",
    "    return generated_poem"
   ]
  },
  {
   "cell_type": "code",
   "execution_count": 68,
   "metadata": {},
   "outputs": [
    {
     "name": "stdout",
     "output_type": "stream",
     "text": [
      "春露湿华发\n"
     ]
    }
   ],
   "source": [
    "# 输入藏头词列表\n",
    "acrostic_input = input(\"请输入藏头诗的头: \").split(' ')\n",
    "\n",
    "for word in acrostic_input:\n",
    "    generated_line = generate_line(word, length=3)\n",
    "    print(generated_line)"
   ]
  }
 ],
 "metadata": {
  "kernelspec": {
   "display_name": "naasi_env",
   "language": "python",
   "name": "python3"
  },
  "language_info": {
   "codemirror_mode": {
    "name": "ipython",
    "version": 3
   },
   "file_extension": ".py",
   "mimetype": "text/x-python",
   "name": "python",
   "nbconvert_exporter": "python",
   "pygments_lexer": "ipython3",
   "version": "3.10.13"
  }
 },
 "nbformat": 4,
 "nbformat_minor": 2
}
